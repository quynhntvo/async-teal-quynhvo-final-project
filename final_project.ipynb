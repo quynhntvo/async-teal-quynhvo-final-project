# Import necessary libraries
import pandas as pd
import seaborn as sns
import matplotlib.pyplot as plt

# Load the Titanic dataset. Replace 'titanic.csv' with your own dataset file for your project.
# Ensure the dataset file exists and is in the same directory as this jupyter notebook.
titanic_df = pd.read_csv('titanic.csv')

# Display the first few rows of the dataframe to ensure it is loaded correctly
display(titanic_df.head())
